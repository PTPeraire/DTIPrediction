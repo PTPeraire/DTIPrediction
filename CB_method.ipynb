{
 "cells": [
  {
   "cell_type": "markdown",
   "metadata": {},
   "source": [
    "# Compound-Based Method"
   ]
  },
  {
   "cell_type": "markdown",
   "metadata": {},
   "source": [
    "Here we use a specific compound to identify putative DTI."
   ]
  },
  {
   "cell_type": "markdown",
   "metadata": {},
   "source": [
    "The following packages are necessary to run the compound-based method:\n",
    "- h5py (https://docs.h5py.org)\n",
    "- pandas (https://pandas.pydata.org)\n",
    "- scipy (https://www.scipy.org)\n",
    "- sklearn (https://scikit-learn.org)\n",
    "- tqdm (https://github.com/tqdm/tqdm.git)\n",
    "- numpy (https://numpy.org)"
   ]
  },
  {
   "cell_type": "code",
   "execution_count": 1,
   "metadata": {},
   "outputs": [],
   "source": [
    "# Imports\n",
    "from signaturizer import Signaturizer\n",
    "import CB.CB_functions as CB"
   ]
  },
  {
   "cell_type": "markdown",
   "metadata": {},
   "source": [
    "Create target profiles file if does not exist, if not retrieve stored one"
   ]
  },
  {
   "cell_type": "code",
   "execution_count": 2,
   "metadata": {},
   "outputs": [],
   "source": [
    "compound_sign = CB.get_targetprofiles(\"./CB/target_profiles.pkl\")"
   ]
  },
  {
   "cell_type": "markdown",
   "metadata": {},
   "source": [
    "Convert compound of interest to bioactivity signature"
   ]
  },
  {
   "cell_type": "code",
   "execution_count": 3,
   "metadata": {},
   "outputs": [],
   "source": [
    "query_compound = ['CCC(C)(C)C(=O)OC1CC(C=C2C1C(C(C=C2)C)CCC3CC(CC(=O)O3)O)C']"
   ]
  },
  {
   "cell_type": "code",
   "execution_count": 4,
   "metadata": {},
   "outputs": [],
   "source": [
    "sign = Signaturizer('GLOBAL')"
   ]
  },
  {
   "cell_type": "code",
   "execution_count": 5,
   "metadata": {},
   "outputs": [],
   "source": [
    "query_sign = sign.predict(query_compound, keytype = 'SMILES').signature"
   ]
  },
  {
   "cell_type": "markdown",
   "metadata": {},
   "source": [
    "Run analysis\n",
    "- 'Human' option allows to only rank human targets "
   ]
  },
  {
   "cell_type": "code",
   "execution_count": 6,
   "metadata": {},
   "outputs": [
    {
     "name": "stderr",
     "output_type": "stream",
     "text": [
      "100%|██████████| 1693/1693 [00:05<00:00, 300.24it/s]\n"
     ]
    }
   ],
   "source": [
    "results = CB.run(query_sign, compound_sign, uniprot='human')"
   ]
  },
  {
   "cell_type": "markdown",
   "metadata": {},
   "source": [
    "Get top predicted targets"
   ]
  },
  {
   "cell_type": "code",
   "execution_count": 7,
   "metadata": {},
   "outputs": [
    {
     "data": {
      "text/html": [
       "<div>\n",
       "<style scoped>\n",
       "    .dataframe tbody tr th:only-of-type {\n",
       "        vertical-align: middle;\n",
       "    }\n",
       "\n",
       "    .dataframe tbody tr th {\n",
       "        vertical-align: top;\n",
       "    }\n",
       "\n",
       "    .dataframe thead th {\n",
       "        text-align: right;\n",
       "    }\n",
       "</style>\n",
       "<table border=\"1\" class=\"dataframe\">\n",
       "  <thead>\n",
       "    <tr style=\"text-align: right;\">\n",
       "      <th></th>\n",
       "      <th>Target</th>\n",
       "      <th>Rank</th>\n",
       "      <th>Score</th>\n",
       "      <th>ZScore</th>\n",
       "    </tr>\n",
       "  </thead>\n",
       "  <tbody>\n",
       "    <tr>\n",
       "      <th>230</th>\n",
       "      <td>P04035</td>\n",
       "      <td>1</td>\n",
       "      <td>0.000000</td>\n",
       "      <td>-8.095033</td>\n",
       "    </tr>\n",
       "    <tr>\n",
       "      <th>311</th>\n",
       "      <td>P08183</td>\n",
       "      <td>2</td>\n",
       "      <td>0.000000</td>\n",
       "      <td>-8.095033</td>\n",
       "    </tr>\n",
       "    <tr>\n",
       "      <th>380</th>\n",
       "      <td>P10632</td>\n",
       "      <td>3</td>\n",
       "      <td>0.000000</td>\n",
       "      <td>-8.095033</td>\n",
       "    </tr>\n",
       "    <tr>\n",
       "      <th>1688</th>\n",
       "      <td>Q9Y6L6</td>\n",
       "      <td>4</td>\n",
       "      <td>0.000000</td>\n",
       "      <td>-8.095033</td>\n",
       "    </tr>\n",
       "    <tr>\n",
       "      <th>590</th>\n",
       "      <td>P23975</td>\n",
       "      <td>5</td>\n",
       "      <td>0.025005</td>\n",
       "      <td>-7.856640</td>\n",
       "    </tr>\n",
       "    <tr>\n",
       "      <th>1043</th>\n",
       "      <td>Q01959</td>\n",
       "      <td>6</td>\n",
       "      <td>0.025005</td>\n",
       "      <td>-7.856640</td>\n",
       "    </tr>\n",
       "    <tr>\n",
       "      <th>327</th>\n",
       "      <td>P08684</td>\n",
       "      <td>7</td>\n",
       "      <td>0.305605</td>\n",
       "      <td>-5.181491</td>\n",
       "    </tr>\n",
       "    <tr>\n",
       "      <th>410</th>\n",
       "      <td>P11712</td>\n",
       "      <td>8</td>\n",
       "      <td>0.321671</td>\n",
       "      <td>-5.028330</td>\n",
       "    </tr>\n",
       "    <tr>\n",
       "      <th>93</th>\n",
       "      <td>O43924</td>\n",
       "      <td>9</td>\n",
       "      <td>0.338653</td>\n",
       "      <td>-4.866421</td>\n",
       "    </tr>\n",
       "    <tr>\n",
       "      <th>871</th>\n",
       "      <td>P48449</td>\n",
       "      <td>10</td>\n",
       "      <td>0.525102</td>\n",
       "      <td>-3.088884</td>\n",
       "    </tr>\n",
       "    <tr>\n",
       "      <th>770</th>\n",
       "      <td>P37268</td>\n",
       "      <td>11</td>\n",
       "      <td>0.529042</td>\n",
       "      <td>-3.051313</td>\n",
       "    </tr>\n",
       "    <tr>\n",
       "      <th>1213</th>\n",
       "      <td>Q15392</td>\n",
       "      <td>12</td>\n",
       "      <td>0.535660</td>\n",
       "      <td>-2.988219</td>\n",
       "    </tr>\n",
       "    <tr>\n",
       "      <th>1599</th>\n",
       "      <td>Q9UHC9</td>\n",
       "      <td>13</td>\n",
       "      <td>0.536865</td>\n",
       "      <td>-2.976738</td>\n",
       "    </tr>\n",
       "    <tr>\n",
       "      <th>43</th>\n",
       "      <td>O14983</td>\n",
       "      <td>14</td>\n",
       "      <td>0.547355</td>\n",
       "      <td>-2.876725</td>\n",
       "    </tr>\n",
       "    <tr>\n",
       "      <th>1582</th>\n",
       "      <td>Q9UBM7</td>\n",
       "      <td>15</td>\n",
       "      <td>0.556948</td>\n",
       "      <td>-2.785274</td>\n",
       "    </tr>\n",
       "    <tr>\n",
       "      <th>821</th>\n",
       "      <td>P42858</td>\n",
       "      <td>16</td>\n",
       "      <td>0.572394</td>\n",
       "      <td>-2.638014</td>\n",
       "    </tr>\n",
       "    <tr>\n",
       "      <th>1528</th>\n",
       "      <td>Q9NPD5</td>\n",
       "      <td>17</td>\n",
       "      <td>0.572394</td>\n",
       "      <td>-2.638014</td>\n",
       "    </tr>\n",
       "    <tr>\n",
       "      <th>1184</th>\n",
       "      <td>Q14534</td>\n",
       "      <td>18</td>\n",
       "      <td>0.579640</td>\n",
       "      <td>-2.568936</td>\n",
       "    </tr>\n",
       "    <tr>\n",
       "      <th>137</th>\n",
       "      <td>O75908</td>\n",
       "      <td>19</td>\n",
       "      <td>0.589722</td>\n",
       "      <td>-2.472815</td>\n",
       "    </tr>\n",
       "    <tr>\n",
       "      <th>173</th>\n",
       "      <td>O95749</td>\n",
       "      <td>20</td>\n",
       "      <td>0.592844</td>\n",
       "      <td>-2.443045</td>\n",
       "    </tr>\n",
       "  </tbody>\n",
       "</table>\n",
       "</div>"
      ],
      "text/plain": [
       "      Target  Rank     Score    ZScore\n",
       "230   P04035     1  0.000000 -8.095033\n",
       "311   P08183     2  0.000000 -8.095033\n",
       "380   P10632     3  0.000000 -8.095033\n",
       "1688  Q9Y6L6     4  0.000000 -8.095033\n",
       "590   P23975     5  0.025005 -7.856640\n",
       "1043  Q01959     6  0.025005 -7.856640\n",
       "327   P08684     7  0.305605 -5.181491\n",
       "410   P11712     8  0.321671 -5.028330\n",
       "93    O43924     9  0.338653 -4.866421\n",
       "871   P48449    10  0.525102 -3.088884\n",
       "770   P37268    11  0.529042 -3.051313\n",
       "1213  Q15392    12  0.535660 -2.988219\n",
       "1599  Q9UHC9    13  0.536865 -2.976738\n",
       "43    O14983    14  0.547355 -2.876725\n",
       "1582  Q9UBM7    15  0.556948 -2.785274\n",
       "821   P42858    16  0.572394 -2.638014\n",
       "1528  Q9NPD5    17  0.572394 -2.638014\n",
       "1184  Q14534    18  0.579640 -2.568936\n",
       "137   O75908    19  0.589722 -2.472815\n",
       "173   O95749    20  0.592844 -2.443045"
      ]
     },
     "execution_count": 7,
     "metadata": {},
     "output_type": "execute_result"
    }
   ],
   "source": [
    "results.sort_values('Rank')[0:20]"
   ]
  },
  {
   "cell_type": "code",
   "execution_count": null,
   "metadata": {},
   "outputs": [],
   "source": []
  }
 ],
 "metadata": {
  "kernelspec": {
   "display_name": "Python 3",
   "language": "python",
   "name": "python3"
  },
  "language_info": {
   "codemirror_mode": {
    "name": "ipython",
    "version": 3
   },
   "file_extension": ".py",
   "mimetype": "text/x-python",
   "name": "python",
   "nbconvert_exporter": "python",
   "pygments_lexer": "ipython3",
   "version": "3.8.0"
  }
 },
 "nbformat": 4,
 "nbformat_minor": 4
}
